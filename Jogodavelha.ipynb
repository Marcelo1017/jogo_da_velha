{
  "nbformat": 4,
  "nbformat_minor": 0,
  "metadata": {
    "colab": {
      "provenance": [],
      "authorship_tag": "ABX9TyNpfatX5XDifrrDTYTj03Ig",
      "include_colab_link": true
    },
    "kernelspec": {
      "name": "python3",
      "display_name": "Python 3"
    },
    "language_info": {
      "name": "python"
    }
  },
  "cells": [
    {
      "cell_type": "markdown",
      "metadata": {
        "id": "view-in-github",
        "colab_type": "text"
      },
      "source": [
        "<a href=\"https://colab.research.google.com/github/Marcelo1017/jogo_da_velha/blob/main/Jogodavelha.ipynb\" target=\"_parent\"><img src=\"https://colab.research.google.com/assets/colab-badge.svg\" alt=\"Open In Colab\"/></a>"
      ]
    },
    {
      "cell_type": "code",
      "execution_count": null,
      "metadata": {
        "id": "EY_DvdeYONYD"
      },
      "outputs": [],
      "source": [
        "board = [[\" \" for _ in range(3)] for _ in range(3)]\n",
        "\n",
        "def draw_board():\n",
        "  print(\"  0 1 2\")\n",
        "  for i, row in enumerate(board):\n",
        "    print(i, *row)\n",
        "\n",
        "def get_move(player):\n",
        "  while True:\n",
        "    row = input(\"Enter row for player {}: \".format(player))\n",
        "    col = input(\"Enter column for player {}: \".format(player))\n",
        "    if row.isdigit() and col.isdigit():\n",
        "      row = int(row)\n",
        "      col = int(col)\n",
        "      if row >= 0 and row < 3 and col >= 0 and col < 3:\n",
        "        if board[row][col] == \" \":\n",
        "          return row, col\n",
        "        else:\n",
        "          print(\"That space is already taken. Please try again.\")\n",
        "      else:\n",
        "        print(\"Invalid move. Please try again.\")\n",
        "    else:\n",
        "      print(\"Invalid input. Please enter valid row and column numbers.\")\n",
        "\n",
        "def check_win(player):\n",
        "  # check rows\n",
        "  for row in board:\n",
        "    if row == [player, player, player]:\n",
        "      return True\n",
        "  # check columns\n",
        "  for col in range(3):\n",
        "    if board[0][col] == player and board[1][col] == player and board[2][col] == player:\n",
        "      return True\n",
        "  # check diagonals\n",
        "  if board[0][0] == player and board[1][1] == player and board[2][2] == player:\n",
        "    return True\n",
        "  if board[0][2] == player and board[1][1] == player and board[2][0] == player:\n",
        "    return True\n",
        "  return False\n",
        "\n",
        "def main():\n",
        "  draw_board()\n",
        "  while True:\n",
        "    for player in [\"X\", \"O\"]:\n",
        "      row, col = get_move(player)\n",
        "      board[row][col] = player\n",
        "      draw_board()\n",
        "      if check_win(player):\n",
        "        print(\"Player {} wins!\".format(player))\n",
        "        return\n",
        "\n",
        "main()\n"
      ]
    }
  ]
}